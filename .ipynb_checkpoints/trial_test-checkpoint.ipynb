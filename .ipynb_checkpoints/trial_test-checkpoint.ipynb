{
 "cells": [
  {
   "cell_type": "code",
   "execution_count": 56,
   "metadata": {},
   "outputs": [
    {
     "name": "stdout",
     "output_type": "stream",
     "text": [
      "<generator object _BaseKFold.split at 0x0000016204B75308>\n",
      "[2 3] [0 1]\n",
      "[0 1] [2 3]\n"
     ]
    }
   ],
   "source": [
    "import numpy as np\n",
    "from sklearn.model_selection import KFold\n",
    "\n",
    "X = [\"a\", \"b\", \"c\", \"d\"]\n",
    "kf = KFold(n_splits=2)\n",
    "print(kf.split(X))\n",
    "for train, test in kf.split(X):\n",
    "    print(\"%s %s\" % (train, test))\n",
    "X = np.array([[0, 0], [1, 1], [-1, -1], [2, 2]])\n",
    "y = np.array([0, 1, 0, 1])\n",
    "X_train, X_test, y_train, y_test = X[train], X[test], y[train], y[test]"
   ]
  },
  {
   "cell_type": "code",
   "execution_count": 57,
   "metadata": {},
   "outputs": [
    {
     "data": {
      "text/plain": [
       "array([[0, 0],\n",
       "       [1, 1]])"
      ]
     },
     "execution_count": 57,
     "metadata": {},
     "output_type": "execute_result"
    }
   ],
   "source": [
    "X_train"
   ]
  },
  {
   "cell_type": "code",
   "execution_count": 58,
   "metadata": {},
   "outputs": [
    {
     "data": {
      "text/plain": [
       "array([[-1, -1],\n",
       "       [ 2,  2]])"
      ]
     },
     "execution_count": 58,
     "metadata": {},
     "output_type": "execute_result"
    }
   ],
   "source": [
    "X_test"
   ]
  },
  {
   "cell_type": "code",
   "execution_count": 59,
   "metadata": {},
   "outputs": [
    {
     "data": {
      "text/plain": [
       "array([0, 1])"
      ]
     },
     "execution_count": 59,
     "metadata": {},
     "output_type": "execute_result"
    }
   ],
   "source": [
    "y_train"
   ]
  },
  {
   "cell_type": "code",
   "execution_count": 60,
   "metadata": {},
   "outputs": [
    {
     "data": {
      "text/plain": [
       "array([0, 1])"
      ]
     },
     "execution_count": 60,
     "metadata": {},
     "output_type": "execute_result"
    }
   ],
   "source": [
    "y_test"
   ]
  },
  {
   "cell_type": "code",
   "execution_count": 61,
   "metadata": {},
   "outputs": [
    {
     "data": {
      "text/plain": [
       "array([[ 0,  0],\n",
       "       [ 1,  1],\n",
       "       [-1, -1],\n",
       "       [ 2,  2]])"
      ]
     },
     "execution_count": 61,
     "metadata": {},
     "output_type": "execute_result"
    }
   ],
   "source": [
    "X"
   ]
  },
  {
   "cell_type": "code",
   "execution_count": 62,
   "metadata": {},
   "outputs": [],
   "source": [
    "import pandas\n",
    "df = pandas.read_csv('clean-train.csv',header=None)\n",
    "kf = KFold(n_splits=10, shuffle=True)"
   ]
  },
  {
   "cell_type": "code",
   "execution_count": 63,
   "metadata": {},
   "outputs": [
    {
     "data": {
      "text/plain": [
       "KFold(n_splits=10, random_state=None, shuffle=True)"
      ]
     },
     "execution_count": 63,
     "metadata": {},
     "output_type": "execute_result"
    }
   ],
   "source": [
    "kf"
   ]
  },
  {
   "cell_type": "code",
   "execution_count": 64,
   "metadata": {
    "scrolled": true
   },
   "outputs": [
    {
     "name": "stdout",
     "output_type": "stream",
     "text": [
      "1\n",
      "[    0     1     2 ..., 25006 25007 25008]\n",
      "[    3     9    14 ..., 24989 24992 25003]\n",
      "2\n",
      "[    0     1     2 ..., 25006 25007 25008]\n",
      "[   10    15    19 ..., 24979 24995 25004]\n",
      "3\n",
      "[    0     1     2 ..., 25006 25007 25008]\n",
      "[    5    58    61 ..., 24988 24998 25002]\n",
      "4\n",
      "[    0     1     2 ..., 25005 25007 25008]\n",
      "[    4     8    35 ..., 24999 25001 25006]\n",
      "5\n",
      "[    0     2     3 ..., 25006 25007 25008]\n",
      "[    1    18    30 ..., 24945 24954 24965]\n",
      "6\n",
      "[    0     1     3 ..., 25006 25007 25008]\n",
      "[    2     6    36 ..., 24986 24993 25000]\n",
      "7\n",
      "[    0     1     2 ..., 25006 25007 25008]\n",
      "[    7    11    25 ..., 24975 24997 25005]\n",
      "8\n",
      "[    0     1     2 ..., 25005 25006 25008]\n",
      "[   29    34    49 ..., 24964 24996 25007]\n",
      "9\n",
      "[    1     2     3 ..., 25005 25006 25007]\n",
      "[    0    17    20 ..., 24990 24994 25008]\n",
      "10\n",
      "[    0     1     2 ..., 25006 25007 25008]\n",
      "[   12    13    16 ..., 24981 24982 24987]\n"
     ]
    }
   ],
   "source": [
    "split_items=kf.split(df)\n",
    "i=0\n",
    "for train,test in split_items:\n",
    "    print(i+1)\n",
    "    i=i+1\n",
    "    print(train)\n",
    "    print(test)"
   ]
  },
  {
   "cell_type": "markdown",
   "metadata": {},
   "source": [
    "X = df.columns.values[:-1]\n",
    "y = df.columns.values[-1]\n",
    "for train_index, test_index in kf.split(df):\n",
    "    print(\"TRAIN:\", train_index, \"TEST:\", test_index)\n",
    "    X_train, X_test = X[train_index], X[test_index]\n",
    "    y_train, y_test = y[train_index], y[test_index]\n",
    "    print(X_train)\n",
    "    print(X_test)\n",
    "    print(Y_train)\n",
    "    print(Y_test)"
   ]
  }
 ],
 "metadata": {
  "kernelspec": {
   "display_name": "Python 3",
   "language": "python",
   "name": "python3"
  },
  "language_info": {
   "codemirror_mode": {
    "name": "ipython",
    "version": 3
   },
   "file_extension": ".py",
   "mimetype": "text/x-python",
   "name": "python",
   "nbconvert_exporter": "python",
   "pygments_lexer": "ipython3",
   "version": "3.6.2"
  }
 },
 "nbformat": 4,
 "nbformat_minor": 2
}
